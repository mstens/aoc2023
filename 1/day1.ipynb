{
 "cells": [
  {
   "cell_type": "markdown",
   "metadata": {},
   "source": [
    "## Part 1"
   ]
  },
  {
   "cell_type": "code",
   "execution_count": 1,
   "metadata": {},
   "outputs": [],
   "source": [
    "def get_first_digit(string):\n",
    "    for c in string:\n",
    "        if c.isdigit():\n",
    "            return c\n",
    "\n",
    "def get_calibration_value(string):\n",
    "    return int(f\"{get_first_digit(string)}{get_first_digit(reversed(string))}\")"
   ]
  },
  {
   "cell_type": "code",
   "execution_count": 2,
   "metadata": {},
   "outputs": [
    {
     "name": "stdout",
     "output_type": "stream",
     "text": [
      "55172\n"
     ]
    }
   ],
   "source": [
    "with open(\"input1.txt\") as f:\n",
    "    print(sum(get_calibration_value(line) for line in f))"
   ]
  },
  {
   "cell_type": "markdown",
   "metadata": {},
   "source": [
    "## Part 2"
   ]
  },
  {
   "cell_type": "code",
   "execution_count": 3,
   "metadata": {},
   "outputs": [],
   "source": [
    "digits = [\"zero\", \"one\", \"two\", \"three\", \"four\", \"five\", \"six\", \"seven\", \"eight\", \"nine\"] + [str(i) for i in range(10)]\n",
    "\n",
    "def get_digit_or_word(string, digit_strings):\n",
    "    for i in range(len(string)):\n",
    "        for digit in digit_strings:\n",
    "            if string[i:].startswith(digit):\n",
    "                return digit if digit.isdigit() else digit_strings.index(digit)\n",
    "\n",
    "def get_calibration_value2(string):\n",
    "    first = get_digit_or_word(string, digits)\n",
    "    last = get_digit_or_word(string[::-1], [d[::-1] for d in digits])\n",
    "    return int(f\"{first}{last}\")"
   ]
  },
  {
   "cell_type": "code",
   "execution_count": 4,
   "metadata": {},
   "outputs": [
    {
     "name": "stdout",
     "output_type": "stream",
     "text": [
      "54925\n"
     ]
    }
   ],
   "source": [
    "with open(\"input1.txt\") as f:\n",
    "    print(sum(get_calibration_value2(line) for line in f))"
   ]
  }
 ],
 "metadata": {
  "interpreter": {
   "hash": "31f2aee4e71d21fbe5cf8b01ff0e069b9275f58929596ceb00d14d90e3e16cd6"
  },
  "kernelspec": {
   "display_name": "Python 3.8.2 64-bit",
   "language": "python",
   "name": "python3"
  },
  "language_info": {
   "codemirror_mode": {
    "name": "ipython",
    "version": 3
   },
   "file_extension": ".py",
   "mimetype": "text/x-python",
   "name": "python",
   "nbconvert_exporter": "python",
   "pygments_lexer": "ipython3",
   "version": "3.7.2"
  },
  "orig_nbformat": 4
 },
 "nbformat": 4,
 "nbformat_minor": 2
}
